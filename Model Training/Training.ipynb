{
 "cells": [
  {
   "cell_type": "code",
   "execution_count": 35,
   "metadata": {},
   "outputs": [
    {
     "name": "stderr",
     "output_type": "stream",
     "text": [
      "ERROR: Could not find a version that satisfies the requirement tensorflow (from versions: none)\n",
      "\n",
      "[notice] A new release of pip is available: 25.0.1 -> 25.1.1\n",
      "[notice] To update, run: python.exe -m pip install --upgrade pip\n",
      "ERROR: No matching distribution found for tensorflow\n"
     ]
    }
   ],
   "source": [
    "# #installing required libraries\n",
    "\n",
    "# !pip install biopython\n",
    "# !pip install scikit-learn\n",
    "# !pip install xgboost\n",
    "!pip install tensorflow\n",
    "#!pip install imbalanced-learn"
   ]
  },
  {
   "cell_type": "markdown",
   "metadata": {},
   "source": [
    "# **Preprocessing**"
   ]
  },
  {
   "cell_type": "markdown",
   "metadata": {},
   "source": [
    "## **Data Cleaning**"
   ]
  },
  {
   "cell_type": "code",
   "execution_count": 36,
   "metadata": {},
   "outputs": [
    {
     "name": "stdout",
     "output_type": "stream",
     "text": [
      "Extracted allergen sequences: 1295\n",
      "Extracted non allergens sequences: 20390\n"
     ]
    }
   ],
   "source": [
    "from Bio import SeqIO\n",
    "\n",
    "#function extracting amino acid sequences\n",
    "def extract_sequences(f):\n",
    "    seq = []\n",
    "    for record in SeqIO.parse(f, \"fasta\"):\n",
    "        seq.append(str(record.seq))\n",
    "    return seq\n",
    "\n",
    "#Extracting sequences\n",
    "allergen_sequences = extract_sequences(\"allergen.fasta\")\n",
    "non_allergen_sequences = extract_sequences(\"not_allergen.fasta\")\n",
    "\n",
    "print(f\"Extracted allergen sequences: {len(allergen_sequences)}\")\n",
    "print(f\"Extracted non allergens sequences: {len(non_allergen_sequences)}\")"
   ]
  },
  {
   "cell_type": "markdown",
   "metadata": {},
   "source": [
    "## **Removing Duplicates**"
   ]
  },
  {
   "cell_type": "code",
   "execution_count": 37,
   "metadata": {},
   "outputs": [
    {
     "name": "stdout",
     "output_type": "stream",
     "text": [
      "Unique allergen sequences: 1239\n",
      "Unique non allergen sequences: 20313\n"
     ]
    }
   ],
   "source": [
    "#removing duplicate sequences\n",
    "allergen_sequences = list(set(allergen_sequences))\n",
    "non_allergen_sequences = list(set(non_allergen_sequences))\n",
    "\n",
    "print(f\"Unique allergen sequences: {len(allergen_sequences)}\")\n",
    "print(f\"Unique non allergen sequences: {len(non_allergen_sequences)}\")"
   ]
  },
  {
   "cell_type": "markdown",
   "metadata": {},
   "source": [
    "## **Filtering Sequences**"
   ]
  },
  {
   "cell_type": "code",
   "execution_count": 38,
   "metadata": {},
   "outputs": [
    {
     "name": "stdout",
     "output_type": "stream",
     "text": [
      "Filtered allergen sequences: 1183\n",
      "Filtered out non allergen sequences: 20264\n"
     ]
    }
   ],
   "source": [
    "#filtering out short sequences from allergen amino acid sequences\n",
    "allergen_seq = []\n",
    "for seq in allergen_sequences:\n",
    "    #if length of sequence is less than 30, filter it out\n",
    "    if len(seq) >= 30:\n",
    "        allergen_seq.append(seq)\n",
    "\n",
    "#filtering out short sequences from non allergen amino acid sequences\n",
    "non_allergen_seq = []\n",
    "for seq in non_allergen_sequences:\n",
    "    #if length of sequence is less than 30, filter it out\n",
    "    if len(seq) >= 30:\n",
    "        non_allergen_seq.append(seq)\n",
    "\n",
    "print(f\"Filtered allergen sequences: {len(allergen_seq)}\")\n",
    "print(f\"Filtered out non allergen sequences: {len(non_allergen_seq)}\")"
   ]
  },
  {
   "cell_type": "markdown",
   "metadata": {},
   "source": [
    "## **Converting Protein Sequences to Features**"
   ]
  },
  {
   "cell_type": "markdown",
   "metadata": {},
   "source": [
    "Amino Acid Composition (AAC):"
   ]
  },
  {
   "cell_type": "code",
   "execution_count": 39,
   "metadata": {},
   "outputs": [
    {
     "name": "stdout",
     "output_type": "stream",
     "text": [
      "Feature shape (AAC) of allergen features: (1183, 21)\n",
      "Feature shape (AAC) of non allergen sequences: (20264, 21)\n"
     ]
    }
   ],
   "source": [
    "import numpy as np\n",
    "\n",
    "AMINO_ACIDS = \"ACDEFGHIJKLMNPQRSTVWY\"\n",
    "\n",
    "def calculate_aac(seq):\n",
    "    seq_list = []\n",
    "    for aa in AMINO_ACIDS:\n",
    "        a = seq.count(aa) / len(seq)\n",
    "        seq_list.append(a)\n",
    "    return seq_list\n",
    "\n",
    "#Convert all features to AAC features vectors\n",
    "allergen_features = np.array([calculate_aac(seq) for seq in allergen_seq])\n",
    "non_allergen_features = np.array([calculate_aac(seq) for seq in non_allergen_seq])\n",
    "\n",
    "print(f\"Feature shape (AAC) of allergen features: {allergen_features.shape}\")\n",
    "print(f\"Feature shape (AAC) of non allergen sequences: {non_allergen_features.shape}\")"
   ]
  },
  {
   "cell_type": "code",
   "execution_count": 40,
   "metadata": {},
   "outputs": [],
   "source": [
    "# print(f\"Number of allergen samples: {len(allergen_features)}\")\n",
    "# print(f\"Number of non-allergen samples: {len(non_allergen_features)}\")\n",
    "\n",
    "# # Combine features\n",
    "# X = np.concatenate((allergen_features, non_allergen_features), axis=0)\n",
    "\n",
    "# # Create labels: 1 for allergen, 0 for non-allergen\n",
    "# y = np.concatenate((np.ones(len(allergen_features)), np.zeros(len(non_allergen_features))))\n",
    "\n",
    "# # Apply SMOTE to balance the classes\n",
    "# from imblearn.over_sampling import SMOTE\n",
    "# smote = SMOTE(random_state=42)\n",
    "# X_bal, y_bal = smote.fit_resample(X, y)\n",
    "\n",
    "# print(\"After SMOTE:\")\n",
    "# print(f\"Number of samples in class 1 (allergen): {sum(y_bal==1)}\")\n",
    "# print(f\"Number of samples in class 0 (non-allergen): {sum(y_bal==0)}\")\n",
    "\n",
    "# # Split balanced data into training and testing sets\n",
    "# from sklearn.model_selection import train_test_split\n",
    "# X_train, X_test, y_train, y_test = train_test_split(X_bal, y_bal, test_size=0.2, random_state=42)"
   ]
  },
  {
   "cell_type": "markdown",
   "metadata": {},
   "source": [
    "Dipeptide Composition (DPC)"
   ]
  },
  {
   "cell_type": "code",
   "execution_count": 41,
   "metadata": {},
   "outputs": [
    {
     "name": "stdout",
     "output_type": "stream",
     "text": [
      "Feature shape (DPC) of allergen sequences: (1183, 441)\n",
      "Feature shape (DPC) of non allergen sequences: (20264, 441)\n"
     ]
    }
   ],
   "source": [
    "from itertools import product\n",
    "\n",
    "DIPEPTIDES = [''.join(p) for p in product(AMINO_ACIDS, repeat=2)]\n",
    "\n",
    "def calculate_dpc(seq):\n",
    "    seq_list = []\n",
    "    for dp in DIPEPTIDES:\n",
    "        d = seq.count(dp) / len(seq)\n",
    "        seq_list.append(d)\n",
    "    return seq_list\n",
    "\n",
    "#converting all sequences to DPC feature vectors\n",
    "allergen_dpc = np.array([calculate_dpc(seq) for seq in allergen_seq])\n",
    "non_allergen_dpc = np.array([calculate_dpc(seq) for seq in non_allergen_seq])\n",
    "\n",
    "print(f\"Feature shape (DPC) of allergen sequences: {allergen_dpc.shape}\")\n",
    "print(f\"Feature shape (DPC) of non allergen sequences: {non_allergen_dpc.shape}\")"
   ]
  },
  {
   "cell_type": "markdown",
   "metadata": {},
   "source": [
    "Physiochemical Properties: (charge, polarity, hydrophobicity)"
   ]
  },
  {
   "cell_type": "code",
   "execution_count": 42,
   "metadata": {},
   "outputs": [
    {
     "name": "stdout",
     "output_type": "stream",
     "text": [
      "Feature shape (Physicochemical) of allergen sequences: (1183, 5)\n",
      "Feature shape (Physicochemical) of non allergen sequences: (20264, 5)\n"
     ]
    }
   ],
   "source": [
    "from Bio.SeqUtils.ProtParam import ProteinAnalysis\n",
    "\n",
    "def calculate_physiochemical_features(seq):\n",
    "    seq = seq.replace(\"X\", \"\")\n",
    "    seq = seq.replace(\"Z\", \"\")\n",
    "    seq = seq.replace(\"U\", \"\")\n",
    "    analysis = ProteinAnalysis(seq)\n",
    "    return [\n",
    "        analysis.isoelectric_point(),\n",
    "        analysis.molecular_weight(),\n",
    "        analysis.aromaticity(),\n",
    "        analysis.instability_index(),\n",
    "        analysis.gravy()\n",
    "    ]\n",
    "\n",
    "#convert all sequences to physiochemical features\n",
    "allergen_physico_features = np.array([calculate_physiochemical_features(seq) for seq in allergen_seq])\n",
    "non_allergen_physico_features = np.array([calculate_physiochemical_features(seq) for seq in non_allergen_seq])\n",
    "\n",
    "print(f\"Feature shape (Physicochemical) of allergen sequences: {allergen_physico_features.shape}\")\n",
    "print(f\"Feature shape (Physicochemical) of non allergen sequences: {non_allergen_physico_features.shape}\")"
   ]
  },
  {
   "cell_type": "markdown",
   "metadata": {},
   "source": [
    "## **Adding labels**"
   ]
  },
  {
   "cell_type": "code",
   "execution_count": 43,
   "metadata": {},
   "outputs": [
    {
     "name": "stdout",
     "output_type": "stream",
     "text": [
      "After SMOTE balancing:\n",
      "Samples in class 0 (non-allergen): 20264\n",
      "Samples in class 1 (allergen): 20264\n",
      "Shape of x: (21447, 467)\n",
      "Shape of y: (21447,)\n"
     ]
    }
   ],
   "source": [
    "from sklearn.utils import shuffle\n",
    "\n",
    "all_features = np.hstack((allergen_features, allergen_dpc, allergen_physico_features))\n",
    "non_all_features = np.hstack((non_allergen_features, non_allergen_dpc, non_allergen_physico_features))\n",
    "\n",
    "x = np.vstack((all_features, non_all_features))\n",
    "y = np.array([1] * len(all_features) + [0] * len(non_all_features))\n",
    "\n",
    "x, y = shuffle(x, y, random_state=42)\n",
    "\n",
    "from imblearn.over_sampling import SMOTE\n",
    "\n",
    "# Apply SMOTE to the final combined feature matrix and label array\n",
    "smote = SMOTE(random_state=42)\n",
    "x_bal, y_bal = smote.fit_resample(x, y)\n",
    "\n",
    "print(\"After SMOTE balancing:\")\n",
    "print(f\"Samples in class 0 (non-allergen): {sum(y_bal == 0)}\")\n",
    "print(f\"Samples in class 1 (allergen): {sum(y_bal == 1)}\")\n",
    "\n",
    "\n",
    "print(f\"Shape of x: {x.shape}\")\n",
    "print(f\"Shape of y: {y.shape}\")"
   ]
  },
  {
   "cell_type": "markdown",
   "metadata": {},
   "source": [
    "# **Model Training**"
   ]
  },
  {
   "cell_type": "markdown",
   "metadata": {},
   "source": [
    "## **Splitting Dataset**"
   ]
  },
  {
   "cell_type": "code",
   "execution_count": 44,
   "metadata": {},
   "outputs": [],
   "source": [
    "from sklearn.model_selection import train_test_split\n",
    "\n",
    "#Splitting dataset\n",
    "x_train, x_test, y_train, y_test = train_test_split(x_bal, y_bal, test_size=0.2, random_state=42,stratify=y_bal)"
   ]
  },
  {
   "cell_type": "markdown",
   "metadata": {},
   "source": [
    "## **Random Forest**"
   ]
  },
  {
   "cell_type": "code",
   "execution_count": 45,
   "metadata": {},
   "outputs": [
    {
     "name": "stdout",
     "output_type": "stream",
     "text": [
      "Training Accuracy: 1.0000\n",
      "Random Forest Model Test Accuracy: 0.9951\n",
      "              precision    recall  f1-score   support\n",
      "\n",
      "           0       0.99      1.00      1.00      4053\n",
      "           1       1.00      0.99      1.00      4053\n",
      "\n",
      "    accuracy                           1.00      8106\n",
      "   macro avg       1.00      1.00      1.00      8106\n",
      "weighted avg       1.00      1.00      1.00      8106\n",
      "\n"
     ]
    }
   ],
   "source": [
    "from sklearn.ensemble import RandomForestClassifier\n",
    "from sklearn.metrics import accuracy_score, classification_report\n",
    "\n",
    "#initializing classifier\n",
    "rf_model = RandomForestClassifier(n_estimators=100, random_state=42)\n",
    "\n",
    "#training the model\n",
    "rf_model.fit(x_train, y_train)\n",
    "\n",
    "# Predictions on training data\n",
    "y_train_pred = rf_model.predict(x_train)\n",
    "train_accuracy = accuracy_score(y_train, y_train_pred)\n",
    "print(f\"Training Accuracy: {train_accuracy:.4f}\")\n",
    "\n",
    "#making predictions\n",
    "y_pred = rf_model.predict(x_test)\n",
    "\n",
    "#evaluating the model\n",
    "accuracy = accuracy_score(y_test, y_pred)\n",
    "print(f\"Random Forest Model Test Accuracy: {accuracy:.4f}\")\n",
    "\n",
    "#Classification report\n",
    "print(classification_report(y_test, y_pred))"
   ]
  },
  {
   "cell_type": "markdown",
   "metadata": {},
   "source": [
    "## **Logistic Regression**"
   ]
  },
  {
   "cell_type": "code",
   "execution_count": 46,
   "metadata": {},
   "outputs": [
    {
     "name": "stdout",
     "output_type": "stream",
     "text": [
      "Training Accuracy: 0.8591\n",
      "Logistic Regression Model Accuracy: 0.8615840118430792\n",
      "              precision    recall  f1-score   support\n",
      "\n",
      "           0       0.86      0.86      0.86      4053\n",
      "           1       0.86      0.86      0.86      4053\n",
      "\n",
      "    accuracy                           0.86      8106\n",
      "   macro avg       0.86      0.86      0.86      8106\n",
      "weighted avg       0.86      0.86      0.86      8106\n",
      "\n"
     ]
    }
   ],
   "source": [
    "from sklearn.linear_model import LogisticRegression\n",
    "\n",
    "#initializing classifier\n",
    "lr_model = LogisticRegression(max_iter=1000, random_state=42)\n",
    "\n",
    "#training the model\n",
    "lr_model.fit(x_train, y_train)\n",
    "\n",
    "# Training accuracy\n",
    "y_train_pred = lr_model.predict(x_train)\n",
    "train_accuracy = accuracy_score(y_train, y_train_pred)\n",
    "print(f\"Training Accuracy: {train_accuracy:.4f}\")\n",
    "\n",
    "#making predictions\n",
    "y_pred = lr_model.predict(x_test)\n",
    "\n",
    "#evaluating the model\n",
    "accuracy = accuracy_score(y_test, y_pred)\n",
    "print(f\"Logistic Regression Model Accuracy: {accuracy}\")\n",
    "\n",
    "#classification report\n",
    "print(classification_report(y_test, y_pred))"
   ]
  },
  {
   "cell_type": "markdown",
   "metadata": {},
   "source": [
    "## **Support Vector Model (SVM)**"
   ]
  },
  {
   "cell_type": "code",
   "execution_count": 47,
   "metadata": {},
   "outputs": [],
   "source": [
    "# from sklearn.svm import SVC\n",
    "\n",
    "# #initializing classifier\n",
    "# svm_model = SVC(kernel='linear', probability=True, random_state=42)\n",
    "\n",
    "# #training the model\n",
    "# svm_model.fit(x_train, y_train)\n",
    "\n",
    "# #making predictions\n",
    "# y_pred = svm_model.predict(x_test)\n",
    "\n",
    "# #evaluating the model\n",
    "# accuracy = accuracy_score(y_test, y_pred)\n",
    "# print(f\"SVM Model Accuracy: {accuracy}\")\n",
    "\n",
    "# #classification report\n",
    "# print(classification_report(y_test, y_pred))"
   ]
  },
  {
   "cell_type": "markdown",
   "metadata": {},
   "source": [
    "## **XGBoost (Boosting Model)**"
   ]
  },
  {
   "cell_type": "code",
   "execution_count": 48,
   "metadata": {},
   "outputs": [
    {
     "name": "stdout",
     "output_type": "stream",
     "text": [
      "Training Accuracy: 1.0000\n",
      "XGB Model Accuracy: 0.99506538366642\n",
      "              precision    recall  f1-score   support\n",
      "\n",
      "           0       0.99      1.00      1.00      4053\n",
      "           1       1.00      0.99      1.00      4053\n",
      "\n",
      "    accuracy                           1.00      8106\n",
      "   macro avg       1.00      1.00      1.00      8106\n",
      "weighted avg       1.00      1.00      1.00      8106\n",
      "\n"
     ]
    }
   ],
   "source": [
    "import xgboost as xgb\n",
    "\n",
    "#initializing classifier\n",
    "xgb_model = xgb.XGBClassifier(eval_metric='logloss')\n",
    "\n",
    "#training the model\n",
    "xgb_model.fit(x_train, y_train)\n",
    "\n",
    "#making predictions\n",
    "y_pred = xgb_model.predict(x_test)\n",
    "\n",
    "# Training accuracy\n",
    "y_train_pred = xgb_model.predict(x_train)\n",
    "train_accuracy = accuracy_score(y_train, y_train_pred)\n",
    "print(f\"Training Accuracy: {train_accuracy:.4f}\")\n",
    "\n",
    "#evaluating the model\n",
    "accuracy = accuracy_score(y_test, y_pred)\n",
    "print(f\"XGB Model Accuracy: {accuracy}\")\n",
    "\n",
    "#classification report\n",
    "print(classification_report(y_test, y_pred))"
   ]
  },
  {
   "cell_type": "markdown",
   "metadata": {},
   "source": [
    "## **Artificial Neural Network (Deep Learning)**"
   ]
  },
  {
   "cell_type": "code",
   "execution_count": 49,
   "metadata": {},
   "outputs": [
    {
     "name": "stderr",
     "output_type": "stream",
     "text": [
      "c:\\Users\\USER\\AppData\\Local\\Programs\\Python\\Python313\\Lib\\site-packages\\sklearn\\neural_network\\_multilayer_perceptron.py:691: ConvergenceWarning: Stochastic Optimizer: Maximum iterations (20) reached and the optimization hasn't converged yet.\n",
      "  warnings.warn(\n"
     ]
    },
    {
     "name": "stdout",
     "output_type": "stream",
     "text": [
      "Training Accuracy: 0.7432\n",
      "ANN Model Accuracy: 0.7479644707623982\n",
      "              precision    recall  f1-score   support\n",
      "\n",
      "           0       0.79      0.68      0.73      4053\n",
      "           1       0.72      0.82      0.76      4053\n",
      "\n",
      "    accuracy                           0.75      8106\n",
      "   macro avg       0.75      0.75      0.75      8106\n",
      "weighted avg       0.75      0.75      0.75      8106\n",
      "\n"
     ]
    }
   ],
   "source": [
    "from sklearn.neural_network import MLPClassifier\n",
    "from sklearn.metrics import accuracy_score, classification_report\n",
    "\n",
    "# create model\n",
    "ann_model = MLPClassifier(\n",
    "    hidden_layer_sizes=(128, 64),\n",
    "    activation='relu',\n",
    "    solver='adam',\n",
    "    max_iter=20,\n",
    "    batch_size=32,\n",
    "    random_state=42\n",
    ")\n",
    "\n",
    "# train model\n",
    "ann_model.fit(x_train, y_train)\n",
    "\n",
    "# Training accuracy\n",
    "y_train_pred = ann_model.predict(x_train)\n",
    "train_accuracy = accuracy_score(y_train, y_train_pred)\n",
    "print(f\"Training Accuracy: {train_accuracy:.4f}\")\n",
    "\n",
    "# predict\n",
    "y_pred = ann_model.predict(x_test)\n",
    "\n",
    "# evaluate\n",
    "accuracy = accuracy_score(y_test, y_pred)\n",
    "print(f\"ANN Model Accuracy: {accuracy}\")\n",
    "print(classification_report(y_test, y_pred))\n"
   ]
  },
  {
   "cell_type": "markdown",
   "metadata": {},
   "source": [
    "# **Saving in .pkl file**"
   ]
  },
  {
   "cell_type": "code",
   "execution_count": 51,
   "metadata": {},
   "outputs": [
    {
     "data": {
      "text/plain": [
       "['allergen_detection.pkl']"
      ]
     },
     "execution_count": 51,
     "metadata": {},
     "output_type": "execute_result"
    }
   ],
   "source": [
    "import joblib\n",
    "\n",
    "joblib.dump(rf_model, \"allergen_detection.pkl\")"
   ]
  }
 ],
 "metadata": {
  "kernelspec": {
   "display_name": "Python 3",
   "language": "python",
   "name": "python3"
  },
  "language_info": {
   "codemirror_mode": {
    "name": "ipython",
    "version": 3
   },
   "file_extension": ".py",
   "mimetype": "text/x-python",
   "name": "python",
   "nbconvert_exporter": "python",
   "pygments_lexer": "ipython3",
   "version": "3.13.3"
  }
 },
 "nbformat": 4,
 "nbformat_minor": 2
}
